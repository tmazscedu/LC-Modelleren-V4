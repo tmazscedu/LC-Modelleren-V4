{
 "cells": [
  {
   "cell_type": "markdown",
   "metadata": {},
   "source": [
    "# Eerste model\n",
    "\n",
    "We gaan gebruik maken van Python in de Jupyteromgeving om \n",
    "onze modellen te maken. We beginnen met een model waarin de\n",
    "snelheid van een voorwerp toeneemt onder invloed van een versnelling.\n",
    "\n",
    "Natuurlijk kunnen we met een compacte formule de snelheid\n",
    "uitrekenen op ieder gewenst moment, maar we kiezen er nu toch\n",
    "voor om het model dynamisch op te zetten. Dit betekent dat we ieder\n",
    "moment de toestand van het model weten en alleen de verandering in\n",
    "de komende tijdsperiode berekenen en toevoegen aan de toestand.\n",
    "Dit klinkt wellicht ingewikkeld maar blijkt toch in de praktijk\n",
    "verrassend eenvoudig te zijn.\n",
    "\n",
    ".Stap 1. Teken het model (conceptualiseer)\n",
    "\n",
    ".Stap 2. Kies je variabelen en constanten en beschrijf wat er met\n",
    "die variabelen/constanten gebeurt. Veranderen ze en zo ja hoe dan?\n",
    "Veel modellen zijn tijdsgebonden, waarbij je een stapgrootte kiest,\n",
    "vaak zal dat seconde, maar dat kan net zo goed jaar zijn als nanoseconde)\n",
    "\n",
    "Stap 3. (eerste deel wiskundig) voer je variabelen in in de code smaen\n",
    "met waarde waarop ze starten (heel vaak is dat 0)\n",
    "\n",
    "Stap 4. (tweede deel wiskundig) beschrijf de verandering van de verschillende\n",
    "variabelen in korte formules (vaak in de vorm van dv = a * dt, waarbij\n",
    "de 'd' staat voor 'delta' of de verandering\n",
    "\n",
    "Stap 5. Bedenk wanneer het programma moet stoppen (na 50 berekeningen of \n",
    "als de snelheid > 1000 is?). Zonder stop-voorwaarde blijft het programma\n",
    "oneindig doorrekenen.\n"
   ]
  },
  {
   "cell_type": "markdown",
   "metadata": {},
   "source": [
    "## Stap 1  tekening\n",
    "\n",
    "![modelleer-iteratie](img/av02.png)![modelleer-iteratie](img/av12.png)"
   ]
  },
  {
   "cell_type": "code",
   "execution_count": null,
   "metadata": {},
   "outputs": [],
   "source": []
  },
  {
   "cell_type": "markdown",
   "metadata": {},
   "source": [
    "## Stap 2  variabelen en constanten"
   ]
  },
  {
   "cell_type": "markdown",
   "metadata": {},
   "source": [
    "snelheid, versnelling, tijd (per seconde)"
   ]
  },
  {
   "cell_type": "markdown",
   "metadata": {},
   "source": [
    "## Stap 3 declaratie variabelen en constanten"
   ]
  },
  {
   "cell_type": "code",
   "execution_count": 1,
   "metadata": {},
   "outputs": [],
   "source": [
    "t = 0\n",
    "dt = 1\n",
    "v = 0\n",
    "dv = 0\n",
    "a = 5"
   ]
  },
  {
   "cell_type": "markdown",
   "metadata": {},
   "source": [
    "## Stap 4 berekeningen\n",
    "\n",
    "we berekenen telkens de nieuwe toestand door bij de oude (vorige) toestand de\n",
    "verandering op te tellen. Bijvoorbeeld  v = v + dv\n",
    "![modelleer-iteratie](img/av22.png)"
   ]
  },
  {
   "cell_type": "code",
   "execution_count": 3,
   "metadata": {},
   "outputs": [],
   "source": [
    "while t < 50:\n",
    "    dv = a * dt\n",
    "    v = v + dv\n",
    "    t = t + dt\n",
    "    print(t,a,v)"
   ]
  },
  {
   "cell_type": "markdown",
   "metadata": {},
   "source": [
    "## Wat als we waarden willen onthouden?\n",
    "\n",
    "Dat kun je doen door bij iedere berekening de waarden op dat moment op te slaan in\n",
    "een lijst of een array.\n",
    "Maar daarvoor moeten we wel de lijst van te voren aanmaken en later vullen"
   ]
  },
  {
   "cell_type": "code",
   "execution_count": 4,
   "metadata": {},
   "outputs": [],
   "source": [
    "t = 0\n",
    "dt = 1\n",
    "v = 0\n",
    "dv = 0\n",
    "a = 5\n",
    "###### maak de lijsten aan\n",
    "alijst=[]\n",
    "vlijst=[]\n",
    "tlijst=[]"
   ]
  },
  {
   "cell_type": "code",
   "execution_count": 5,
   "metadata": {},
   "outputs": [],
   "source": [
    "while t < 50:\n",
    "    dv = a * dt\n",
    "    v = v + dv\n",
    "    t = t + dt\n",
    "    ######  sla de berekende waarden op in de lijsten\n",
    "    alijst.append(a)\n",
    "    vlijst.append(v)\n",
    "    tlijst.append(t)"
   ]
  },
  {
   "cell_type": "code",
   "execution_count": 6,
   "metadata": {},
   "outputs": [
    {
     "name": "stdout",
     "output_type": "stream",
     "text": [
      "[5, 10, 15, 20, 25, 30, 35, 40, 45, 50, 55, 60, 65, 70, 75, 80, 85, 90, 95, 100, 105, 110, 115, 120, 125, 130, 135, 140, 145, 150, 155, 160, 165, 170, 175, 180, 185, 190, 195, 200, 205, 210, 215, 220, 225, 230, 235, 240, 245, 250]\n",
      "[5, 5, 5, 5, 5, 5, 5, 5, 5, 5, 5, 5, 5, 5, 5, 5, 5, 5, 5, 5, 5, 5, 5, 5, 5, 5, 5, 5, 5, 5, 5, 5, 5, 5, 5, 5, 5, 5, 5, 5, 5, 5, 5, 5, 5, 5, 5, 5, 5, 5]\n",
      "[1, 2, 3, 4, 5, 6, 7, 8, 9, 10, 11, 12, 13, 14, 15, 16, 17, 18, 19, 20, 21, 22, 23, 24, 25, 26, 27, 28, 29, 30, 31, 32, 33, 34, 35, 36, 37, 38, 39, 40, 41, 42, 43, 44, 45, 46, 47, 48, 49, 50]\n"
     ]
    }
   ],
   "source": [
    "print(vlijst)\n",
    "print(alijst)\n",
    "print(tlijst)"
   ]
  },
  {
   "cell_type": "markdown",
   "metadata": {},
   "source": [
    "## Wat als we variabelen in een grafiek willen zien?\n",
    "\n",
    "Dat kun je doen door de lijsten in een grafiekmodule te zetten.\n",
    "Je gebruikt op de x-as meestal de tijd en op de y-as de varaibele(n)\n",
    "die je wilt zien."
   ]
  },
  {
   "cell_type": "code",
   "execution_count": 7,
   "metadata": {},
   "outputs": [],
   "source": [
    "import matplotlib.pyplot as plt\n",
    "%matplotlib inline   \n",
    "## keeps it within the notebook"
   ]
  },
  {
   "cell_type": "code",
   "execution_count": 8,
   "metadata": {},
   "outputs": [],
   "source": [
    "t = 0\n",
    "dt = 1\n",
    "v = 0\n",
    "dv = 0\n",
    "a = 5\n",
    "###### maak de lijsten aan\n",
    "alijst=[]\n",
    "vlijst=[]\n",
    "tlijst=[]"
   ]
  },
  {
   "cell_type": "code",
   "execution_count": 9,
   "metadata": {},
   "outputs": [],
   "source": [
    "while t < 50:\n",
    "    a = a + 0.1*a\n",
    "    dv = a * dt\n",
    "    v = v + dv\n",
    "    t = t + dt\n",
    "    ######  sla de berekende waarden op in de lijsten\n",
    "    alijst.append(a)\n",
    "    vlijst.append(v)\n",
    "    tlijst.append(t)"
   ]
  },
  {
   "cell_type": "code",
   "execution_count": 10,
   "metadata": {},
   "outputs": [
    {
     "data": {
      "image/png": "[encoded data removed]",
      "text/plain": [
       "<Figure size 432x288 with 1 Axes>"
      ]
     },
     "metadata": {
      "needs_background": "light"
     },
     "output_type": "display_data"
    }
   ],
   "source": [
    "plt.plot(tlijst,vlijst)\n",
    "plt.show()"
   ]
  },
  {
   "cell_type": "code",
   "execution_count": 11,
   "metadata": {},
   "outputs": [
    {
     "data": {
      "image/png": "[encoded data removed]",
      "text/plain": [
       "<Figure size 432x288 with 1 Axes>"
      ]
     },
     "metadata": {
      "needs_background": "light"
     },
     "output_type": "display_data"
    },
    {
     "data": {
      "image/png": "[encoded data removed]",
      "text/plain": [
       "<Figure size 432x288 with 1 Axes>"
      ]
     },
     "metadata": {
      "needs_background": "light"
     },
     "output_type": "display_data"
    }
   ],
   "source": [
    "plt.plot(tlijst,vlijst)\n",
    "plt.plot(tlijst,alijst)\n",
    "plt.show()\n",
    "plt.plot(tlijst,alijst)\n",
    "plt.show()"
   ]
  },
  {
   "cell_type": "code",
   "execution_count": null,
   "metadata": {},
   "outputs": [],
   "source": []
  }
 ],
 "metadata": {
  "kernelspec": {
   "display_name": "Python 3",
   "language": "python",
   "name": "python3"
  },
  "language_info": {
   "codemirror_mode": {
    "name": "ipython",
    "version": 3
   },
   "file_extension": ".py",
   "mimetype": "text/x-python",
   "name": "python",
   "nbconvert_exporter": "python",
   "pygments_lexer": "ipython3",
   "version": "3.7.9"
  }
 },
 "nbformat": 4,
 "nbformat_minor": 4
}
