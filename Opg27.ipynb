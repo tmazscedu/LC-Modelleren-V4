{
 "cells": [
  {
   "cell_type": "markdown",
   "metadata": {},
   "source": [
    "# Werkmodel  Opg27"
   ]
  },
  {
   "cell_type": "code",
   "execution_count": 5,
   "metadata": {},
   "outputs": [],
   "source": [
    "# Inladen bibliotheken en hulpfiles\n",
    "import matplotlib.pyplot as plt\n",
    "%matplotlib inline   \n",
    "## Do not change unless you know what you need"
   ]
  },
  {
   "cell_type": "code",
   "execution_count": 9,
   "metadata": {},
   "outputs": [],
   "source": [
    "# constanten en variabelen (vul zelf aan)\n",
    "t = 0\n",
    "dt = 1\n",
    "a = 0.75\n",
    "F = 400\n",
    "m = 40\n",
    "v = 0\n",
    "dv = 0\n",
    "\n",
    "\n",
    "# lijstvariabelen\n",
    "tlijst = []\n",
    "alijst = []\n",
    "Flijst = []\n",
    "mlijst = []\n",
    "vlijst = []\n",
    "\n"
   ]
  },
  {
   "cell_type": "code",
   "execution_count": 10,
   "metadata": {},
   "outputs": [],
   "source": [
    "# loop opzetten en berekeningen toevoegen\n",
    "while t < 50:\n",
    "    t = t + dt\n",
    "    a = F / m\n",
    "    dv = a * dt\n",
    "    v = v + dv\n",
    "    \n",
    "\n",
    "    ######  sla de berekende waarden op in de lijsten\n",
    "    tlijst.append(t)\n",
    "    vlijst.append(v)\n",
    "    alijst.append(a)\n",
    "    Flijst.append(F)\n",
    "    mlijst.append(m)\n",
    "    \n",
    "    #####  zet de klok vooruit\n",
    "\n",
    "\n",
    "\n",
    "\n"
   ]
  },
  {
   "cell_type": "code",
   "execution_count": 11,
   "metadata": {},
   "outputs": [
    {
     "data": {
      "image/png": "[encoded data removed]",
      "text/plain": [
       "<Figure size 432x288 with 1 Axes>"
      ]
     },
     "metadata": {
      "needs_background": "light"
     },
     "output_type": "display_data"
    }
   ],
   "source": [
    "plt.plot(tlijst,vlijst)\n",
    "plt.grid()\n",
    "plt.show()"
   ]
  },
  {
   "cell_type": "code",
   "execution_count": null,
   "metadata": {},
   "outputs": [],
   "source": []
  }
 ],
 "metadata": {
  "kernelspec": {
   "display_name": "Python 3",
   "language": "python",
   "name": "python3"
  },
  "language_info": {
   "codemirror_mode": {
    "name": "ipython",
    "version": 3
   },
   "file_extension": ".py",
   "mimetype": "text/x-python",
   "name": "python",
   "nbconvert_exporter": "python",
   "pygments_lexer": "ipython3",
   "version": "3.7.9"
  }
 },
 "nbformat": 4,
 "nbformat_minor": 4
}
