{
 "cells": [
  {
   "cell_type": "markdown",
   "metadata": {},
   "source": [
    "# Modelleren, wat en hoe.."
   ]
  },
  {
   "cell_type": "markdown",
   "metadata": {},
   "source": [
    "**\" Modeling is a form of explanation that is characteristic – even defining – of science\"**\n",
    "\n",
    "Algemeen gesteld is modelleren het maken van een (wiskundige) beschrijving \n",
    "van een situatie uit de werkelijkheid, waarbij die beschrijving dient om \n",
    "een probleem of vraag in die situatie op te lossen. \n",
    "\n",
    "***Modelleren* is zowel een *werkwijze*  als een *denkwijze*.** \n",
    "\n",
    "Het omvat een iteratief proces dat creativiteit en inventiviteit vraagt, \n",
    "waarin wiskundige, natuurwetenschappelijke en technische kennis wordt toegepast \n",
    "om nieuwe situaties te beschrijven. Dit omvat het bepalen van een strategie, \n",
    "het doorgronden/ analyseren van het probleem, het kiezen van variabelen, \n",
    "het opstellen van verbanden en het inzetten van wiskundige en computationele middelen.\n",
    "\n"
   ]
  },
  {
   "attachments": {},
   "cell_type": "markdown",
   "metadata": {},
   "source": [
    "![modelleer-iteratie](img/schemamodelleren2.png)"
   ]
  },
  {
   "cell_type": "markdown",
   "metadata": {},
   "source": [
    "**We gebruiken de model-leercyclus, die we in de volgende activiteiten verdelen:**\n",
    "\n",
    "**1. Oriënteren**\n",
    "\n",
    "Afbakening probleemstelling; vanuit natuurwetenschappelijk perspectief begint modelleren bij het stellen van een vraag over een situatie in een bepaalde context; deze vraag wordt afgebakend en gespecificeerd tot een probleemstelling die de verdere modelontwikkeling stuurt. Leren omgaan met modelleergereedschap en de weergave van data en resultaten in tabellen en grafieken.\n",
    "\n",
    "**2. Conceptualiseren**\n",
    "\n",
    "Conceptuele modelvorming; de probleemstelling wordt gevisualiseerd met behulp van een schematische tekening of een conceptmap; belangrijke variabelen in het systeem worden geïdentificeerd met hun samenhang. Gegevens worden verzameld en geordend, bij voorkeur op basis van eigen onderzoek, zoals een experiment of een onderzoek naar het verschijnsel via een simulatie of een online-database.\n",
    "\n",
    "**3. Mathematiseren**\n",
    "\n",
    "Vertalen van het conceptuele model in wiskundige termen; de probleemstelling wordt geanalyseerd en gereduceerd; de relevante vergelijkingen worden opgesteld of grafisch weergegeven in een geschikte modelleeromgeving.\n",
    "\n",
    "**4. Genereren**\n",
    "\n",
    "Oplossen van het wiskundige probleem en het genereren van uitkomsten. De uitkomsten worden berekend met adequate startwaarden voor de variabelen en modelparameters. Iteratief wordt getest of het model werkt zoals bedoeld.\n",
    "\n",
    "**5. Interpreteren**\n",
    "\n",
    "Terugvertalen van de modeluitkomsten naar de probleemsituatie; onderzoek of het model past bij de data en een afdoende verklaring kan geven voor de waarnemingen; zo nodig wordt de nauwkeurigheid bepaald rekening houdend met onzekerheden in de modelparameters en numerieke benaderingen.\n",
    "\n",
    "**6. Valideren**\n",
    "\n",
    "Reflectie op het model en het modelleerproces; nagaan of het oorspronkelijke probleem inderdaad is opgelost en welke inzichten dat heeft opgeleverd over het bestudeerde systeem of verschijnsel. Wat zijn de grenzen van het model en zijn uitbreidingen denkbaar.\n",
    "Eventueel wordt de cyclus herhaald totdat het uiteindelijke model een bevredigend antwoord geeft op het gestelde probleem."
   ]
  },
  {
   "cell_type": "markdown",
   "metadata": {},
   "source": [
    "Grafisch kunnen we dat zo voorstellen (je begint onderin)\n",
    "\n",
    "![modelleer-cyclus](img/modelleercyclus2.png)"
   ]
  },
  {
   "cell_type": "code",
   "execution_count": null,
   "metadata": {},
   "outputs": [],
   "source": []
  }
 ],
 "metadata": {
  "kernelspec": {
   "display_name": "Python 3",
   "language": "python",
   "name": "python3"
  },
  "language_info": {
   "codemirror_mode": {
    "name": "ipython",
    "version": 3
   },
   "file_extension": ".py",
   "mimetype": "text/x-python",
   "name": "python",
   "nbconvert_exporter": "python",
   "pygments_lexer": "ipython3",
   "version": "3.7.9"
  }
 },
 "nbformat": 4,
 "nbformat_minor": 4
}
