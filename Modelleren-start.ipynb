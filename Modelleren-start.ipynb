{
 "cells": [
  {
   "cell_type": "markdown",
   "metadata": {},
   "source": [
    "# Modelleren, wat en hoe.."
   ]
  },
  {
   "cell_type": "markdown",
   "metadata": {},
   "source": [
    "**\" Modeling is a form of explanation that is characteristic – even defining – of science\"**\n",
    "\n",
    "Algemeen gesteld is modelleren het maken van een (wiskundige) beschrijving \n",
    "van een situatie uit de werkelijkheid, waarbij die beschrijving dient om \n",
    "een probleem of vraag in die situatie op te lossen. \n",
    "\n",
    "***Modelleren* is zowel een *werkwijze*  als een *denkwijze*.** \n",
    "\n",
    "Het omvat een iteratief proces dat creativiteit en inventiviteit vraagt, \n",
    "waarin wiskundige, natuurwetenschappelijke en technische kennis wordt toegepast \n",
    "om nieuwe situaties te beschrijven. Dit omvat het bepalen van een strategie, \n",
    "het doorgronden/ analyseren van het probleem, het kiezen van variabelen, \n",
    "het opstellen van verbanden en het inzetten van wiskundige en computationele middelen.\n",
    "\n"
   ]
  },
  {
   "cell_type": "markdown",
   "metadata": {},
   "source": [
    "![modelleer-iteratie](img/schemamodelleren2.png)"
   ]
  },
  {
   "cell_type": "markdown",
   "metadata": {},
   "source": [
    "**We gebruiken de model-leercyclus, die we in de volgende activiteiten verdelen:**\n",
    "\n",
    "**1. Oriënteren**\n",
    "\n",
    "Afbakening probleemstelling; vanuit natuurwetenschappelijk perspectief begint modelleren bij het stellen van een vraag over een situatie in een bepaalde context; deze vraag wordt afgebakend en gespecificeerd tot een probleemstelling die de verdere modelontwikkeling stuurt. Leren omgaan met modelleergereedschap en de weergave van data en resultaten in tabellen en grafieken.\n",
    "\n",
    "**2. Conceptualiseren**\n",
    "\n",
    "Conceptuele modelvorming; de probleemstelling wordt gevisualiseerd met behulp van een schematische tekening of een conceptmap; belangrijke variabelen in het systeem worden geïdentificeerd met hun samenhang. Gegevens worden verzameld en geordend, bij voorkeur op basis van eigen onderzoek, zoals een experiment of een onderzoek naar het verschijnsel via een simulatie of een online-database.\n",
    "\n",
    "**3. Mathematiseren**\n",
    "\n",
    "Vertalen van het conceptuele model in wiskundige termen; de probleemstelling wordt geanalyseerd en gereduceerd; de relevante vergelijkingen worden opgesteld of grafisch weergegeven in een geschikte modelleeromgeving.\n",
    "\n",
    "**4. Genereren**\n",
    "\n",
    "Oplossen van het wiskundige probleem en het genereren van uitkomsten. De uitkomsten worden berekend met adequate startwaarden voor de variabelen en modelparameters. Iteratief wordt getest of het model werkt zoals bedoeld.\n",
    "\n",
    "**5. Interpreteren**\n",
    "\n",
    "Terugvertalen van de modeluitkomsten naar de probleemsituatie; onderzoek of het model past bij de data en een afdoende verklaring kan geven voor de waarnemingen; zo nodig wordt de nauwkeurigheid bepaald rekening houdend met onzekerheden in de modelparameters en numerieke benaderingen.\n",
    "\n",
    "**6. Valideren**\n",
    "\n",
    "Reflectie op het model en het modelleerproces; nagaan of het oorspronkelijke probleem inderdaad is opgelost en welke inzichten dat heeft opgeleverd over het bestudeerde systeem of verschijnsel. Wat zijn de grenzen van het model en zijn uitbreidingen denkbaar.\n",
    "Eventueel wordt de cyclus herhaald totdat het uiteindelijke model een bevredigend antwoord geeft op het gestelde probleem."
   ]
  },
  {
   "cell_type": "markdown",
   "metadata": {},
   "source": [
    "Grafisch kunnen we dat zo voorstellen (je begint onderin)\n",
    "\n",
    "![modelleer-cyclus](img/modelleercyclus2.png)"
   ]
  },
  {
   "cell_type": "markdown",
   "metadata": {},
   "source": [
    "## Modelleren in de praktijk op het LC\n",
    "\n",
    "We bouwen voort op de programmeer ervaring die we in de onderbouw opgebouwd hebben.\n",
    "We maken gebruik van Python als programmeertaal. Python gebruiken we vanwege\n",
    "de enorme hoeveelheid beschikbare bibliotheken op allerlei onderzoeksterreinen.\n",
    "Python is op HBO-instellingen en universiteiten de lingua franca geworden voor educatie\n",
    "en onderzoek. Je kunt de code ook uitvoeren in een standaard programmeeromgeving, zoals\n",
    "Thonny, VSCode of IDLE, uitvoeren.\n",
    "\n",
    "Op school gebruiken we een browser-omgeving genaamd Jupyter. Met Jupyter kun je Python\n",
    "uitvoeren in je eigen browser (Chrome, Firefox, Edge of Safari) op computers zowel als \n",
    "allerlei devices, zoals tablets en telefoons. Het is wel aan te raden een computer of laptop\n",
    "te gebruiken.\n",
    "\n",
    "Je code en je tekstdelen staan in zogenaamde cellen. Je verdeelt je code in stukken die\n",
    "je per cel, per code-deel kunt uitvoeren. Doordat de code uitgevoerd wordt in een Binder\n",
    "die ergens op een server draait, werkt het nagenoeg in iedere browser en in ieder platform.\n",
    "De code staat op Github en de binder loopt buiten de schoolsystemen om zodat we onafhankelijk\n",
    "kunnen werken van schoolsystemen.\n"
   ]
  },
  {
   "cell_type": "markdown",
   "metadata": {},
   "source": [
    "**EEN tekst cell**\n",
    "\n",
    "waarin allerlei informatie meegegeven kan worden tot plaatjes aan toe\n",
    "\n",
    "![modelleer-cyclus](img/speedy2.png)"
   ]
  },
  {
   "cell_type": "code",
   "execution_count": null,
   "metadata": {},
   "outputs": [],
   "source": [
    "from random import *\n",
    "\n",
    "for i in range(5):\n",
    "    print(i, randint(0,100))"
   ]
  },
  {
   "cell_type": "code",
   "execution_count": null,
   "metadata": {},
   "outputs": [],
   "source": [
    "print(i)\n",
    "print(random())"
   ]
  },
  {
   "cell_type": "markdown",
   "metadata": {},
   "source": [
    "De code-cellen zijn duidelijk herkenbaar. De tekstcellen zie je als tekstblokken terug.\n",
    "\n",
    "Om het modelleren te vergemakkelijken voorzien we in een zogenaamde template, het Werkmodel.\n",
    "In het werkmodel staan het skelet vanje model al klaar (in programmeertermen je boilerplate).\n",
    "Je past het model aan aan de hande van de stappen eerder beschreven.\n",
    "\n",
    "LOOP ALLE STAPPEN DOOR  en herhaal waar nodig. Vooral het tekenen en het in tekst beschrijven\n",
    "van wat je weet of veronderstelt van het probleem is uiterst belangrijk en bepaalt grotendeels\n",
    "een succesvol eindresultaat.\n",
    "\n",
    "Het spelen met een model, eigenlijk het veranderen van beginwaarden en de berekening maakt dieper\n",
    "inzicht mogelijk. Je krijgt daarmee inzicht in wat een verandering betekent voor de doorloop\n",
    "en uitkomst van je model."
   ]
  },
  {
   "cell_type": "code",
   "execution_count": null,
   "metadata": {},
   "outputs": [],
   "source": []
  }
 ],
 "metadata": {
  "kernelspec": {
   "display_name": "Python 3",
   "language": "python",
   "name": "python3"
  },
  "language_info": {
   "codemirror_mode": {
    "name": "ipython",
    "version": 3
   },
   "file_extension": ".py",
   "mimetype": "text/x-python",
   "name": "python",
   "nbconvert_exporter": "python",
   "pygments_lexer": "ipython3",
   "version": "3.7.9"
  }
 },
 "nbformat": 4,
 "nbformat_minor": 4
}
