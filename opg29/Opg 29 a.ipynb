{
 "cells": [
  {
   "cell_type": "markdown",
   "metadata": {},
   "source": [
    "# Opg 29 a\n",
    "\n",
    "fietser remt voor rood licht\n",
    "in grafiek (t,v) naar beneden buigende lijn (in begin wordt afbuiging sterker)"
   ]
  },
  {
   "cell_type": "code",
   "execution_count": 1,
   "metadata": {},
   "outputs": [],
   "source": [
    "# Inladen bibliotheken en hulpfiles\n",
    "import matplotlib.pyplot as plt\n",
    "%matplotlib inline   \n",
    "## Do not change unless you know what you need\n"
   ]
  },
  {
   "cell_type": "code",
   "execution_count": 2,
   "metadata": {},
   "outputs": [],
   "source": [
    "# constanten en variabelen (vul zelf aan)\n",
    "t = 0\n",
    "dt = 0.01\n",
    "v=7.22\n",
    "a=-2.5\n",
    "m=75\n",
    "Fw=-25\n",
    "Fres = -152.5\n",
    "\n",
    "\n",
    "\n",
    "# lijstvariabelen (alleen als je later grafieken wilt maken)\n",
    "tlijst = []\n",
    "vlijst = []\n",
    "\n"
   ]
  },
  {
   "cell_type": "code",
   "execution_count": 3,
   "metadata": {},
   "outputs": [],
   "source": [
    "# loop opzetten tot wanneer en berekeningen toevoegen\n",
    "while v>0:\n",
    "    dv=a*dt\n",
    "    v=v+dv\n",
    "    t = t + dt\n",
    "\n",
    "    ######  sla de berekende waarden op in de lijsten\n",
    "    tlijst.append(t)\n",
    "    vlijst.append(v)\n",
    "\n",
    "\n",
    "\n",
    "\n"
   ]
  },
  {
   "cell_type": "code",
   "execution_count": 4,
   "metadata": {},
   "outputs": [
    {
     "data": {
      "image/png": "[encoded data removed]",
      "text/plain": [
       "<Figure size 432x288 with 1 Axes>"
      ]
     },
     "metadata": {
      "needs_background": "light"
     },
     "output_type": "display_data"
    }
   ],
   "source": [
    "# laat de grafieken zien \n",
    "plt.plot(tlijst,vlijst)\n",
    "plt.show()\n"
   ]
  },
  {
   "cell_type": "code",
   "execution_count": null,
   "metadata": {},
   "outputs": [],
   "source": []
  }
 ],
 "metadata": {
  "kernelspec": {
   "display_name": "Python 3",
   "language": "python",
   "name": "python3"
  },
  "language_info": {
   "codemirror_mode": {
    "name": "ipython",
    "version": 3
   },
   "file_extension": ".py",
   "mimetype": "text/x-python",
   "name": "python",
   "nbconvert_exporter": "python",
   "pygments_lexer": "ipython3",
   "version": "3.7.9"
  }
 },
 "nbformat": 4,
 "nbformat_minor": 4
}
