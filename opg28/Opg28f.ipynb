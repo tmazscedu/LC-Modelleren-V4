{
 "cells": [
  {
   "cell_type": "markdown",
   "metadata": {},
   "source": [
    "## Opgave 28 F\n",
    "\n",
    "scooterrijder  Fw = -30 bij start, loopt op met 5N per sec, remmen met 500N\n",
    "metstappen van 1 seconde wordt de snelheid negatief\n",
    "\n"
   ]
  },
  {
   "cell_type": "code",
   "execution_count": 13,
   "metadata": {},
   "outputs": [],
   "source": [
    "# Inladen bibliotheken en hulpfiles\n",
    "import matplotlib.pyplot as plt\n",
    "%matplotlib inline   \n",
    "## Do not change unless you know what you need"
   ]
  },
  {
   "cell_type": "code",
   "execution_count": 14,
   "metadata": {},
   "outputs": [],
   "source": [
    "# constanten en variabelen (vul zelf aan)\n",
    "t = 0\n",
    "dt = 0.01    # dt = 1\n",
    "a = 0.8\n",
    "Fmot = 180\n",
    "Fres = 0          # Fres = m * a  ; Fres = 125 * 1.2 = 150\n",
    "Fw = -180         # Fw = Fres - Fmot\n",
    "v = 17.4\n",
    "m = 125\n",
    "Frem = -500\n",
    "\n",
    "\n",
    "\n",
    "# lijstvariabelen (alleen als je later grafieken wilt maken)\n",
    "tlijst = []\n",
    "vlijst = []\n",
    "Freslijst = []\n",
    "Fwlijst = []\n",
    "alijst = []\n"
   ]
  },
  {
   "cell_type": "code",
   "execution_count": 15,
   "metadata": {},
   "outputs": [],
   "source": [
    "# loop opzetten tot wanneer en berekeningen toevoegen\n",
    "while v > 0:   # while t < 30:\n",
    "\n",
    "    Fw = Fw - 5*dt \n",
    "    Fres = Fmot + Fw + Frem\n",
    "    a = Fres / m\n",
    "    dv = a * dt\n",
    "    v = v + dv\n",
    "    t = t + dt\n",
    "\n",
    "    ######  sla de berekende waarden op in de lijsten\n",
    "    tlijst.append(t)\n",
    "    vlijst.append(v)\n",
    "    Freslijst.append(Fres)\n",
    "    Fwlijst.append(Fw)\n",
    "    alijst.append(a)\n",
    "\n",
    "\n",
    "\n"
   ]
  },
  {
   "cell_type": "code",
   "execution_count": 16,
   "metadata": {},
   "outputs": [
    {
     "data": {
      "image/png": "[encoded data removed]",
      "text/plain": [
       "<Figure size 432x288 with 1 Axes>"
      ]
     },
     "metadata": {
      "needs_background": "light"
     },
     "output_type": "display_data"
    },
    {
     "data": {
      "image/png": "[encoded data removed]",
      "text/plain": [
       "<Figure size 432x288 with 1 Axes>"
      ]
     },
     "metadata": {
      "needs_background": "light"
     },
     "output_type": "display_data"
    },
    {
     "name": "stdout",
     "output_type": "stream",
     "text": [
      "-521.3000000000048 -4.170400000000039 -0.003804000000085024 4.259999999999954\n"
     ]
    }
   ],
   "source": [
    "# laat de grafieken zien \n",
    "plt.plot(tlijst,vlijst)\n",
    "plt.show()\n",
    "plt.plot(tlijst,Freslijst)\n",
    "plt.plot(tlijst,Fwlijst)\n",
    "plt.show()\n",
    "print(Fres, a, v, t)"
   ]
  },
  {
   "cell_type": "code",
   "execution_count": null,
   "metadata": {},
   "outputs": [],
   "source": []
  }
 ],
 "metadata": {
  "kernelspec": {
   "display_name": "Python 3",
   "language": "python",
   "name": "python3"
  },
  "language_info": {
   "codemirror_mode": {
    "name": "ipython",
    "version": 3
   },
   "file_extension": ".py",
   "mimetype": "text/x-python",
   "name": "python",
   "nbconvert_exporter": "python",
   "pygments_lexer": "ipython3",
   "version": "3.7.9"
  }
 },
 "nbformat": 4,
 "nbformat_minor": 4
}
