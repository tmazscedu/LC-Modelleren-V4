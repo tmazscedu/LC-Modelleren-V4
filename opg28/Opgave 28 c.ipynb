{
 "cells": [
  {
   "cell_type": "markdown",
   "metadata": {},
   "source": [
    "## Opgave 28 b\n",
    "\n",
    "scooterrijder  Fw = -30\n",
    "\n"
   ]
  },
  {
   "cell_type": "code",
   "execution_count": 1,
   "metadata": {},
   "outputs": [],
   "source": [
    "# Inladen bibliotheken en hulpfiles\n",
    "import matplotlib.pyplot as plt\n",
    "%matplotlib inline   \n",
    "## Do not change unless you know what you need"
   ]
  },
  {
   "cell_type": "code",
   "execution_count": 2,
   "metadata": {},
   "outputs": [],
   "source": [
    "# constanten en variabelen (vul zelf aan)\n",
    "t = 0\n",
    "dt = 1\n",
    "a = 1.2\n",
    "Fmot = 180\n",
    "Fres = 150      # Fres = m * a  ; Fres = 125 * 1.2 = 150\n",
    "Fw = -30         # Fw = Fres - Fmot\n",
    "v = 0\n",
    "m = 125\n",
    "\n",
    "\n",
    "\n",
    "# lijstvariabelen (alleen als je later grafieken wilt maken)\n",
    "tlijst = []\n",
    "vlijst = []\n",
    "Freslijst = []\n",
    "Fwlijst = []\n",
    "alijst = []\n"
   ]
  },
  {
   "cell_type": "code",
   "execution_count": 3,
   "metadata": {},
   "outputs": [],
   "source": [
    "# loop opzetten tot wanneer en berekeningen toevoegen\n",
    "while t < 10:\n",
    "    t = t + dt\n",
    "    Fw = Fw - 5*dt \n",
    "    Fres = Fmot + Fw\n",
    "    a = Fres / m\n",
    "    dv = a * dt\n",
    "    v = v + dv\n",
    "\n",
    "    ######  sla de berekende waarden op in de lijsten\n",
    "    tlijst.append(t)\n",
    "    vlijst.append(v)\n",
    "    Freslijst.append(Fres)\n",
    "    Fwlijst.append(Fw)\n",
    "    alijst.append(a)\n",
    "\n",
    "\n",
    "\n"
   ]
  },
  {
   "cell_type": "code",
   "execution_count": 7,
   "metadata": {},
   "outputs": [
    {
     "data": {
      "image/png": "[encoded data removed]",
      "text/plain": [
       "<Figure size 432x288 with 1 Axes>"
      ]
     },
     "metadata": {
      "needs_background": "light"
     },
     "output_type": "display_data"
    },
    {
     "data": {
      "image/png": "[encoded data removed]",
      "text/plain": [
       "<Figure size 432x288 with 1 Axes>"
      ]
     },
     "metadata": {
      "needs_background": "light"
     },
     "output_type": "display_data"
    },
    {
     "name": "stdout",
     "output_type": "stream",
     "text": [
      "100 0.8 9.8\n"
     ]
    }
   ],
   "source": [
    "# laat de grafieken zien \n",
    "plt.plot(tlijst,vlijst)\n",
    "plt.show()\n",
    "plt.plot(tlijst,Freslijst)\n",
    "plt.plot(tlijst,Fwlijst)\n",
    "plt.show()\n",
    "print(Fres, a, v)"
   ]
  },
  {
   "cell_type": "code",
   "execution_count": null,
   "metadata": {},
   "outputs": [],
   "source": []
  }
 ],
 "metadata": {
  "kernelspec": {
   "display_name": "Python 3",
   "language": "python",
   "name": "python3"
  },
  "language_info": {
   "codemirror_mode": {
    "name": "ipython",
    "version": 3
   },
   "file_extension": ".py",
   "mimetype": "text/x-python",
   "name": "python",
   "nbconvert_exporter": "python",
   "pygments_lexer": "ipython3",
   "version": "3.7.9"
  }
 },
 "nbformat": 4,
 "nbformat_minor": 4
}
